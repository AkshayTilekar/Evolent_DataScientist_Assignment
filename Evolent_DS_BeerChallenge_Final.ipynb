{
 "cells": [
  {
   "cell_type": "markdown",
   "metadata": {},
   "source": [
    "# Evolent : Beer Dataset Challenge\n",
    "    Submitted By : Akshay Tilekar\n",
    "----"
   ]
  },
  {
   "cell_type": "markdown",
   "metadata": {},
   "source": [
    "\n",
    "# Content\n",
    "----"
   ]
  },
  {
   "cell_type": "markdown",
   "metadata": {},
   "source": [
    "1. [Backgroud](#Background)\n",
    "1. [Initial Setup](#Setup)\n",
    "1. [Utility Functions](#Utility_Functions)\n",
    "1. [Data Loading](#Data_Loading)\n",
    "1. [Sanitization](#Sanitization)\n",
    "1. [Solutions](#Solutions)"
   ]
  },
  {
   "cell_type": "markdown",
   "metadata": {},
   "source": [
    "---\n",
    "## 1. Background\n",
    "\n",
    "<a id='Background'></a>\n",
    "\n",
    "---"
   ]
  },
  {
   "cell_type": "markdown",
   "metadata": {},
   "source": [
    "For this exercise, you will be working with beer data which can be downloaded from here \n",
    "https://drive.google.com/open?id=1e-kyoB97a5tnE7X4T4Es4FHi4g6Trefq\n",
    " \n",
    "Unzip the file and you should see a CSV file, called “BeerDataScienceProject.csv”\n",
    "\n",
    "The columns are as :\n",
    "   1. beer_ABV\n",
    "   2. beer_beerId\n",
    "   3. beer_brewerId\n",
    "   4. beer_name\n",
    "   5. beer_style\n",
    "   6. review_appearance\n",
    "   7. review_palette\n",
    "   8. review_overall\n",
    "   9. review_taste\n",
    "   10. review_profileName\n",
    "   11. review_aroma\n",
    "   12. review_text\n",
    "   13. review_time\n",
    "\n",
    "\n",
    "You may use any one or more among the following open source programming language(s) (Python, R, C++, Java , Scala , Julia, etc. ) if you like to do so (no “SQL” Based Code). Please provide your answers below the questions. When you submit your answers, please also include the code you used to answer the questions in email and/or provide a link to your code in public repository like github with instructions on how to run it to reproduce your results.  \n",
    "\n",
    "Answer as many questions as possible\n",
    " \n",
    "Questions: \n",
    "\n",
    "1.\tRank top 3 Breweries which produce the strongest beers?\n",
    "2.\tWhich year did beers enjoy the highest ratings? \n",
    "3.\t Based on the user’s ratings which factors are important among taste, aroma, appearance, and palette?\n",
    "4.\tIf you were to recommend 3 beers to your friends based on this data which ones will you recommend?\n",
    "5.\tWhich Beer style seems to be the favorite based on Reviews written by users? How does written review compare to overall review score for the beer style?\n",
    "\n",
    "*Please include all plots you created to complete the project and to explain your results. \n"
   ]
  },
  {
   "cell_type": "markdown",
   "metadata": {},
   "source": [
    "---\n",
    "## 2 .Setup\n",
    "<a id='Setup'></a>\n",
    "\n",
    "---"
   ]
  },
  {
   "cell_type": "code",
   "execution_count": 43,
   "metadata": {},
   "outputs": [
    {
     "name": "stderr",
     "output_type": "stream",
     "text": [
      "[nltk_data] Downloading package vader_lexicon to\n",
      "[nltk_data]     C:\\Users\\atilekar\\AppData\\Roaming\\nltk_data...\n",
      "[nltk_data]   Package vader_lexicon is already up-to-date!\n"
     ]
    }
   ],
   "source": [
    "# For Data Manipulations\n",
    "\n",
    "import pandas as pd\n",
    "import numpy as np\n",
    "import pickle\n",
    "from datetime import datetime\n",
    "import re\n",
    "\n",
    "\n",
    "# For Visualizations\n",
    "\n",
    "import seaborn as sns\n",
    "import matplotlib\n",
    "import matplotlib.pyplot as plt\n",
    "\n",
    "# Visualization Settings\n",
    "sns.set(style=\"ticks\", color_codes=True)\n",
    "matplotlib.rcParams['figure.figsize'] = (8, 6)\n",
    "# matplotlib.rcParams['savefig.facecolor'] = 'w'\n",
    "matplotlib.rcParams['savefig.dpi'] = 80\n",
    "\n",
    "#for loader/show percentage operation done\n",
    "from tqdm import tqdm\n",
    "tqdm.pandas()\n",
    "\n",
    "# text analysis\n",
    "\n",
    "import nltk\n",
    "nltk.download('vader_lexicon')\n",
    "from nltk.sentiment.vader import SentimentIntensityAnalyzer"
   ]
  },
  {
   "cell_type": "markdown",
   "metadata": {},
   "source": [
    "---\n",
    "## 3. Utility Functions\n",
    "<a id='Utility_Functions'></a>\n",
    "\n",
    "---"
   ]
  },
  {
   "cell_type": "code",
   "execution_count": 44,
   "metadata": {},
   "outputs": [],
   "source": [
    "# Function to fet the name of the DataFrame\n",
    "\n",
    "def getDataframeName(data):\n",
    "    return [x for x in globals() if globals()[x] is data][0]"
   ]
  },
  {
   "cell_type": "markdown",
   "metadata": {},
   "source": [
    "## 4. Data Loading\n",
    "<a id='Data_Loading'></a>"
   ]
  },
  {
   "cell_type": "code",
   "execution_count": 45,
   "metadata": {},
   "outputs": [
    {
     "name": "stdout",
     "output_type": "stream",
     "text": [
      "<codecs.StreamReaderWriter object at 0x0000016766032D08>\n"
     ]
    }
   ],
   "source": [
    "import codecs\n",
    "with codecs.open('BeerDataScienceProject.csv', 'r', encoding='utf-8',errors='ignore') as fdata:\n",
    "    print((fdata))"
   ]
  },
  {
   "cell_type": "code",
   "execution_count": 46,
   "metadata": {},
   "outputs": [],
   "source": [
    "# Loading the given Data\n",
    "\n",
    "beerData = pd.read_csv('BeerDataScienceProject.csv', parse_dates = ['review_time'], engine='python')\n"
   ]
  },
  {
   "cell_type": "markdown",
   "metadata": {},
   "source": [
    "## 5. Sanitization\n",
    "<a id='Sanitization'></a>"
   ]
  },
  {
   "cell_type": "code",
   "execution_count": 47,
   "metadata": {},
   "outputs": [
    {
     "data": {
      "text/plain": [
       "(528870, 13)"
      ]
     },
     "execution_count": 47,
     "metadata": {},
     "output_type": "execute_result"
    }
   ],
   "source": [
    "beerData.shape"
   ]
  },
  {
   "cell_type": "code",
   "execution_count": 48,
   "metadata": {},
   "outputs": [
    {
     "data": {
      "text/plain": [
       "Index(['beer_ABV', 'beer_beerId', 'beer_brewerId', 'beer_name', 'beer_style',\n",
       "       'review_appearance', 'review_palette', 'review_overall', 'review_taste',\n",
       "       'review_profileName', 'review_aroma', 'review_text', 'review_time'],\n",
       "      dtype='object')"
      ]
     },
     "execution_count": 48,
     "metadata": {},
     "output_type": "execute_result"
    }
   ],
   "source": [
    "beerData.columns"
   ]
  },
  {
   "cell_type": "markdown",
   "metadata": {},
   "source": [
    "  The Columns are as: \n",
    "   \n",
    "   1. beer_ABV : The alcoholic content by volume with 0 being no alcohol and 1 being pure alcohol\n",
    "   2. beer_beerId\n",
    "   3. beer_brewerId\n",
    "   4. beer_name\n",
    "   5. beer_style\n",
    "   6. review_appearance\n",
    "   7. review_palette\n",
    "   8. review_overall\n",
    "   9. review_taste\n",
    "   10. review_profileName\n",
    "   11. review_aroma\n",
    "   12. review_text\n",
    "   13. review_time\n"
   ]
  },
  {
   "cell_type": "code",
   "execution_count": 49,
   "metadata": {},
   "outputs": [
    {
     "name": "stdout",
     "output_type": "stream",
     "text": [
      "<class 'pandas.core.frame.DataFrame'>\n",
      "RangeIndex: 528870 entries, 0 to 528869\n",
      "Data columns (total 13 columns):\n",
      "beer_ABV              508590 non-null float64\n",
      "beer_beerId           528870 non-null int64\n",
      "beer_brewerId         528870 non-null int64\n",
      "beer_name             528870 non-null object\n",
      "beer_style            528870 non-null object\n",
      "review_appearance     528870 non-null float64\n",
      "review_palette        528870 non-null float64\n",
      "review_overall        528870 non-null float64\n",
      "review_taste          528870 non-null float64\n",
      "review_profileName    528755 non-null object\n",
      "review_aroma          528870 non-null float64\n",
      "review_text           528751 non-null object\n",
      "review_time           528870 non-null int64\n",
      "dtypes: float64(6), int64(3), object(4)\n",
      "memory usage: 52.5+ MB\n"
     ]
    }
   ],
   "source": [
    "beerData.info()"
   ]
  },
  {
   "cell_type": "code",
   "execution_count": 50,
   "metadata": {},
   "outputs": [
    {
     "data": {
      "text/html": [
       "<div>\n",
       "<style scoped>\n",
       "    .dataframe tbody tr th:only-of-type {\n",
       "        vertical-align: middle;\n",
       "    }\n",
       "\n",
       "    .dataframe tbody tr th {\n",
       "        vertical-align: top;\n",
       "    }\n",
       "\n",
       "    .dataframe thead th {\n",
       "        text-align: right;\n",
       "    }\n",
       "</style>\n",
       "<table border=\"1\" class=\"dataframe\">\n",
       "  <thead>\n",
       "    <tr style=\"text-align: right;\">\n",
       "      <th></th>\n",
       "      <th>beer_ABV</th>\n",
       "      <th>beer_beerId</th>\n",
       "      <th>beer_brewerId</th>\n",
       "      <th>beer_name</th>\n",
       "      <th>beer_style</th>\n",
       "      <th>review_appearance</th>\n",
       "      <th>review_palette</th>\n",
       "      <th>review_overall</th>\n",
       "      <th>review_taste</th>\n",
       "      <th>review_profileName</th>\n",
       "      <th>review_aroma</th>\n",
       "      <th>review_text</th>\n",
       "      <th>review_time</th>\n",
       "    </tr>\n",
       "  </thead>\n",
       "  <tbody>\n",
       "    <tr>\n",
       "      <td>528865</td>\n",
       "      <td>NaN</td>\n",
       "      <td>4032</td>\n",
       "      <td>3340</td>\n",
       "      <td>Dinkel Acker Dark</td>\n",
       "      <td>Munich Dunkel Lager</td>\n",
       "      <td>4.0</td>\n",
       "      <td>3.0</td>\n",
       "      <td>4.0</td>\n",
       "      <td>3.5</td>\n",
       "      <td>orangemoustache</td>\n",
       "      <td>4.0</td>\n",
       "      <td>A-pours a reddish amber that looks very nice,l...</td>\n",
       "      <td>1205212721</td>\n",
       "    </tr>\n",
       "    <tr>\n",
       "      <td>528866</td>\n",
       "      <td>NaN</td>\n",
       "      <td>4032</td>\n",
       "      <td>3340</td>\n",
       "      <td>Dinkel Acker Dark</td>\n",
       "      <td>Munich Dunkel Lager</td>\n",
       "      <td>4.0</td>\n",
       "      <td>3.5</td>\n",
       "      <td>3.0</td>\n",
       "      <td>3.0</td>\n",
       "      <td>MisterStout</td>\n",
       "      <td>3.0</td>\n",
       "      <td>I don't really have anything special to say ab...</td>\n",
       "      <td>1203490783</td>\n",
       "    </tr>\n",
       "    <tr>\n",
       "      <td>528867</td>\n",
       "      <td>NaN</td>\n",
       "      <td>4032</td>\n",
       "      <td>3340</td>\n",
       "      <td>Dinkel Acker Dark</td>\n",
       "      <td>Munich Dunkel Lager</td>\n",
       "      <td>4.0</td>\n",
       "      <td>4.0</td>\n",
       "      <td>4.5</td>\n",
       "      <td>4.0</td>\n",
       "      <td>meechum</td>\n",
       "      <td>4.5</td>\n",
       "      <td>Had this on tap at Vreny's Beirgarten A - Came...</td>\n",
       "      <td>1201320897</td>\n",
       "    </tr>\n",
       "    <tr>\n",
       "      <td>528868</td>\n",
       "      <td>NaN</td>\n",
       "      <td>4032</td>\n",
       "      <td>3340</td>\n",
       "      <td>Dinkel Acker Dark</td>\n",
       "      <td>Munich Dunkel Lager</td>\n",
       "      <td>4.0</td>\n",
       "      <td>3.0</td>\n",
       "      <td>4.0</td>\n",
       "      <td>4.0</td>\n",
       "      <td>Dodo2step</td>\n",
       "      <td>4.5</td>\n",
       "      <td>Purchased at Market Cross Pub in carlisle, PA....</td>\n",
       "      <td>1201215290</td>\n",
       "    </tr>\n",
       "    <tr>\n",
       "      <td>528869</td>\n",
       "      <td>NaN</td>\n",
       "      <td>4032</td>\n",
       "      <td>3340</td>\n",
       "      <td>Dinkel Acker Dark</td>\n",
       "      <td>Munich Dunkel Lager</td>\n",
       "      <td>4.0</td>\n",
       "      <td>4.0</td>\n",
       "      <td>4.0</td>\n",
       "      <td>4.0</td>\n",
       "      <td>jenbys2001</td>\n",
       "      <td>4.0</td>\n",
       "      <td>I ordered a mug of this beer at Schnitzelhaus,...</td>\n",
       "      <td>1200336367</td>\n",
       "    </tr>\n",
       "  </tbody>\n",
       "</table>\n",
       "</div>"
      ],
      "text/plain": [
       "        beer_ABV  beer_beerId  beer_brewerId          beer_name  \\\n",
       "528865       NaN         4032           3340  Dinkel Acker Dark   \n",
       "528866       NaN         4032           3340  Dinkel Acker Dark   \n",
       "528867       NaN         4032           3340  Dinkel Acker Dark   \n",
       "528868       NaN         4032           3340  Dinkel Acker Dark   \n",
       "528869       NaN         4032           3340  Dinkel Acker Dark   \n",
       "\n",
       "                 beer_style  review_appearance  review_palette  \\\n",
       "528865  Munich Dunkel Lager                4.0             3.0   \n",
       "528866  Munich Dunkel Lager                4.0             3.5   \n",
       "528867  Munich Dunkel Lager                4.0             4.0   \n",
       "528868  Munich Dunkel Lager                4.0             3.0   \n",
       "528869  Munich Dunkel Lager                4.0             4.0   \n",
       "\n",
       "        review_overall  review_taste review_profileName  review_aroma  \\\n",
       "528865             4.0           3.5    orangemoustache           4.0   \n",
       "528866             3.0           3.0        MisterStout           3.0   \n",
       "528867             4.5           4.0            meechum           4.5   \n",
       "528868             4.0           4.0          Dodo2step           4.5   \n",
       "528869             4.0           4.0         jenbys2001           4.0   \n",
       "\n",
       "                                              review_text  review_time  \n",
       "528865  A-pours a reddish amber that looks very nice,l...   1205212721  \n",
       "528866  I don't really have anything special to say ab...   1203490783  \n",
       "528867  Had this on tap at Vreny's Beirgarten A - Came...   1201320897  \n",
       "528868  Purchased at Market Cross Pub in carlisle, PA....   1201215290  \n",
       "528869  I ordered a mug of this beer at Schnitzelhaus,...   1200336367  "
      ]
     },
     "execution_count": 50,
     "metadata": {},
     "output_type": "execute_result"
    }
   ],
   "source": [
    "beerData.tail(5)"
   ]
  },
  {
   "cell_type": "markdown",
   "metadata": {},
   "source": [
    "### B. Checking Unique Columns in Dataframe"
   ]
  },
  {
   "cell_type": "code",
   "execution_count": 51,
   "metadata": {},
   "outputs": [],
   "source": [
    "for col in beerData.columns:\n",
    "    if beerData[col].is_unique:\n",
    "        print(f'Unique Column : {col} ')"
   ]
  },
  {
   "cell_type": "markdown",
   "metadata": {},
   "source": [
    "### C. Re-Setting the Indexes"
   ]
  },
  {
   "cell_type": "code",
   "execution_count": 52,
   "metadata": {},
   "outputs": [],
   "source": [
    "beerData = beerData.reset_index()"
   ]
  },
  {
   "cell_type": "markdown",
   "metadata": {},
   "source": [
    "### D. Checking the Null Counts"
   ]
  },
  {
   "cell_type": "code",
   "execution_count": 53,
   "metadata": {},
   "outputs": [
    {
     "data": {
      "text/plain": [
       "index                     0\n",
       "beer_ABV              20280\n",
       "beer_beerId               0\n",
       "beer_brewerId             0\n",
       "beer_name                 0\n",
       "beer_style                0\n",
       "review_appearance         0\n",
       "review_palette            0\n",
       "review_overall            0\n",
       "review_taste              0\n",
       "review_profileName      115\n",
       "review_aroma              0\n",
       "review_text             119\n",
       "review_time               0\n",
       "dtype: int64"
      ]
     },
     "execution_count": 53,
     "metadata": {},
     "output_type": "execute_result"
    }
   ],
   "source": [
    "beerData.isnull().sum()"
   ]
  },
  {
   "cell_type": "markdown",
   "metadata": {},
   "source": [
    "### E. Dropping the rows having null values"
   ]
  },
  {
   "cell_type": "code",
   "execution_count": 54,
   "metadata": {},
   "outputs": [],
   "source": [
    "beerData = beerData.dropna()\n"
   ]
  },
  {
   "cell_type": "code",
   "execution_count": 55,
   "metadata": {},
   "outputs": [
    {
     "data": {
      "text/plain": [
       "index                 0\n",
       "beer_ABV              0\n",
       "beer_beerId           0\n",
       "beer_brewerId         0\n",
       "beer_name             0\n",
       "beer_style            0\n",
       "review_appearance     0\n",
       "review_palette        0\n",
       "review_overall        0\n",
       "review_taste          0\n",
       "review_profileName    0\n",
       "review_aroma          0\n",
       "review_text           0\n",
       "review_time           0\n",
       "dtype: int64"
      ]
     },
     "execution_count": 55,
     "metadata": {},
     "output_type": "execute_result"
    }
   ],
   "source": [
    "beerData.isnull().sum()"
   ]
  },
  {
   "cell_type": "code",
   "execution_count": 56,
   "metadata": {},
   "outputs": [
    {
     "data": {
      "text/plain": [
       "(508358, 14)"
      ]
     },
     "execution_count": 56,
     "metadata": {},
     "output_type": "execute_result"
    }
   ],
   "source": [
    "beerData.shape"
   ]
  },
  {
   "cell_type": "markdown",
   "metadata": {},
   "source": [
    "### F. Removing the Duplicate Data\n",
    "    If a user has rated the same beer more than once, then only keep their highest rating and remove others.\n",
    "\n"
   ]
  },
  {
   "cell_type": "code",
   "execution_count": 57,
   "metadata": {},
   "outputs": [
    {
     "data": {
      "text/plain": [
       "Index(['index', 'beer_ABV', 'beer_beerId', 'beer_brewerId', 'beer_name',\n",
       "       'beer_style', 'review_appearance', 'review_palette', 'review_overall',\n",
       "       'review_taste', 'review_profileName', 'review_aroma', 'review_text',\n",
       "       'review_time'],\n",
       "      dtype='object')"
      ]
     },
     "execution_count": 57,
     "metadata": {},
     "output_type": "execute_result"
    }
   ],
   "source": [
    "beerData.columns"
   ]
  },
  {
   "cell_type": "code",
   "execution_count": 58,
   "metadata": {},
   "outputs": [
    {
     "data": {
      "text/plain": [
       "0    stcules\n",
       "1    stcules\n",
       "Name: review_profileName, dtype: object"
      ]
     },
     "execution_count": 58,
     "metadata": {},
     "output_type": "execute_result"
    }
   ],
   "source": [
    "beerData.review_profileName.head(2)"
   ]
  },
  {
   "cell_type": "code",
   "execution_count": 59,
   "metadata": {},
   "outputs": [],
   "source": [
    "# Sort by \"review_overall\" in descending order\n",
    "\n",
    "beerData = beerData.sort_values('review_overall', ascending=False)\n"
   ]
  },
  {
   "cell_type": "code",
   "execution_count": 60,
   "metadata": {},
   "outputs": [],
   "source": [
    "# Keep the highest rating from each \"review_profilename\" and drop the rest\n",
    "\n",
    "beerData = beerData.drop_duplicates(subset= ['review_profileName','beer_beerId'], keep='first')\n"
   ]
  },
  {
   "cell_type": "code",
   "execution_count": 61,
   "metadata": {},
   "outputs": [
    {
     "data": {
      "text/plain": [
       "(503700, 14)"
      ]
     },
     "execution_count": 61,
     "metadata": {},
     "output_type": "execute_result"
    }
   ],
   "source": [
    "#checking shape pf non duplicate data. \n",
    "\n",
    "beerData.shape\n"
   ]
  },
  {
   "cell_type": "code",
   "execution_count": 62,
   "metadata": {},
   "outputs": [],
   "source": [
    "# tmp = beerData.copy()"
   ]
  },
  {
   "cell_type": "markdown",
   "metadata": {},
   "source": [
    "### G. Removing reviews with Ratings <= 0\n",
    "    Since ratings are on a scale of 1-5, any values in review variables that are less than 1 are not suitable for analysis."
   ]
  },
  {
   "cell_type": "code",
   "execution_count": 63,
   "metadata": {},
   "outputs": [],
   "source": [
    "\n",
    "beerData = beerData[(beerData['review_overall'] > 0)]\n"
   ]
  },
  {
   "cell_type": "code",
   "execution_count": 64,
   "metadata": {},
   "outputs": [
    {
     "data": {
      "text/plain": [
       "(503697, 14)"
      ]
     },
     "execution_count": 64,
     "metadata": {},
     "output_type": "execute_result"
    }
   ],
   "source": [
    "beerData.shape"
   ]
  },
  {
   "cell_type": "markdown",
   "metadata": {},
   "source": [
    "---\n",
    "## 6 .Solutions\n",
    "<a id='Solutions'></a>\n",
    "\n",
    "---"
   ]
  },
  {
   "cell_type": "code",
   "execution_count": 65,
   "metadata": {},
   "outputs": [
    {
     "data": {
      "text/plain": [
       "Index(['index', 'beer_ABV', 'beer_beerId', 'beer_brewerId', 'beer_name',\n",
       "       'beer_style', 'review_appearance', 'review_palette', 'review_overall',\n",
       "       'review_taste', 'review_profileName', 'review_aroma', 'review_text',\n",
       "       'review_time'],\n",
       "      dtype='object')"
      ]
     },
     "execution_count": 65,
     "metadata": {},
     "output_type": "execute_result"
    }
   ],
   "source": [
    "beerData.columns"
   ]
  },
  {
   "cell_type": "markdown",
   "metadata": {},
   "source": [
    "### Question 1 : Rank top 3 Breweries which produce the strongest beers?"
   ]
  },
  {
   "cell_type": "code",
   "execution_count": 66,
   "metadata": {},
   "outputs": [
    {
     "data": {
      "text/plain": [
       "Index(['index', 'beer_ABV', 'beer_beerId', 'beer_brewerId', 'beer_name',\n",
       "       'beer_style', 'review_appearance', 'review_palette', 'review_overall',\n",
       "       'review_taste', 'review_profileName', 'review_aroma', 'review_text',\n",
       "       'review_time'],\n",
       "      dtype='object')"
      ]
     },
     "execution_count": 66,
     "metadata": {},
     "output_type": "execute_result"
    }
   ],
   "source": [
    "beerData.columns"
   ]
  },
  {
   "cell_type": "markdown",
   "metadata": {},
   "source": [
    "#### Extracting the relevant columns into new dataframe to use it futher."
   ]
  },
  {
   "cell_type": "code",
   "execution_count": 67,
   "metadata": {},
   "outputs": [],
   "source": [
    "abVP_Data = beerData[['beer_brewerId','beer_beerId','beer_name', 'beer_ABV']]"
   ]
  },
  {
   "cell_type": "code",
   "execution_count": 68,
   "metadata": {},
   "outputs": [
    {
     "data": {
      "text/html": [
       "<div>\n",
       "<style scoped>\n",
       "    .dataframe tbody tr th:only-of-type {\n",
       "        vertical-align: middle;\n",
       "    }\n",
       "\n",
       "    .dataframe tbody tr th {\n",
       "        vertical-align: top;\n",
       "    }\n",
       "\n",
       "    .dataframe thead th {\n",
       "        text-align: right;\n",
       "    }\n",
       "</style>\n",
       "<table border=\"1\" class=\"dataframe\">\n",
       "  <thead>\n",
       "    <tr style=\"text-align: right;\">\n",
       "      <th></th>\n",
       "      <th>beer_brewerId</th>\n",
       "      <th>beer_beerId</th>\n",
       "      <th>beer_name</th>\n",
       "      <th>beer_ABV</th>\n",
       "    </tr>\n",
       "  </thead>\n",
       "  <tbody>\n",
       "    <tr>\n",
       "      <td>492945</td>\n",
       "      <td>132</td>\n",
       "      <td>1339</td>\n",
       "      <td>Hazelnut Brown Nectar</td>\n",
       "      <td>6.2</td>\n",
       "    </tr>\n",
       "    <tr>\n",
       "      <td>172728</td>\n",
       "      <td>221</td>\n",
       "      <td>689</td>\n",
       "      <td>Red Stripe Jamaican Lager</td>\n",
       "      <td>4.7</td>\n",
       "    </tr>\n",
       "    <tr>\n",
       "      <td>409699</td>\n",
       "      <td>694</td>\n",
       "      <td>15881</td>\n",
       "      <td>Tröegs Nugget Nectar</td>\n",
       "      <td>7.5</td>\n",
       "    </tr>\n",
       "    <tr>\n",
       "      <td>517331</td>\n",
       "      <td>113</td>\n",
       "      <td>571</td>\n",
       "      <td>Samuel Smith's Oatmeal Stout</td>\n",
       "      <td>5.0</td>\n",
       "    </tr>\n",
       "    <tr>\n",
       "      <td>172704</td>\n",
       "      <td>221</td>\n",
       "      <td>689</td>\n",
       "      <td>Red Stripe Jamaican Lager</td>\n",
       "      <td>4.7</td>\n",
       "    </tr>\n",
       "  </tbody>\n",
       "</table>\n",
       "</div>"
      ],
      "text/plain": [
       "        beer_brewerId  beer_beerId                     beer_name  beer_ABV\n",
       "492945            132         1339         Hazelnut Brown Nectar       6.2\n",
       "172728            221          689     Red Stripe Jamaican Lager       4.7\n",
       "409699            694        15881          Tröegs Nugget Nectar       7.5\n",
       "517331            113          571  Samuel Smith's Oatmeal Stout       5.0\n",
       "172704            221          689     Red Stripe Jamaican Lager       4.7"
      ]
     },
     "execution_count": 68,
     "metadata": {},
     "output_type": "execute_result"
    }
   ],
   "source": [
    "abVP_Data.head()"
   ]
  },
  {
   "cell_type": "code",
   "execution_count": 69,
   "metadata": {},
   "outputs": [
    {
     "data": {
      "text/plain": [
       "(503697, 4)"
      ]
     },
     "execution_count": 69,
     "metadata": {},
     "output_type": "execute_result"
    }
   ],
   "source": [
    "abVP_Data.shape"
   ]
  },
  {
   "cell_type": "code",
   "execution_count": 70,
   "metadata": {},
   "outputs": [],
   "source": [
    "#Applying aggregations over a \"beer_ABV\" with resoect to \"beer_brewerId\" and \"beer_beerId\"\n",
    "\n",
    "aggrAbvDf = abVP_Data.groupby(['beer_brewerId', 'beer_beerId']).agg({'beer_ABV': [np.size, np.mean]})"
   ]
  },
  {
   "cell_type": "code",
   "execution_count": 71,
   "metadata": {},
   "outputs": [
    {
     "data": {
      "text/html": [
       "<div>\n",
       "<style scoped>\n",
       "    .dataframe tbody tr th:only-of-type {\n",
       "        vertical-align: middle;\n",
       "    }\n",
       "\n",
       "    .dataframe tbody tr th {\n",
       "        vertical-align: top;\n",
       "    }\n",
       "\n",
       "    .dataframe thead tr th {\n",
       "        text-align: left;\n",
       "    }\n",
       "\n",
       "    .dataframe thead tr:last-of-type th {\n",
       "        text-align: right;\n",
       "    }\n",
       "</style>\n",
       "<table border=\"1\" class=\"dataframe\">\n",
       "  <thead>\n",
       "    <tr>\n",
       "      <th></th>\n",
       "      <th></th>\n",
       "      <th colspan=\"2\" halign=\"left\">beer_ABV</th>\n",
       "    </tr>\n",
       "    <tr>\n",
       "      <th></th>\n",
       "      <th></th>\n",
       "      <th>size</th>\n",
       "      <th>mean</th>\n",
       "    </tr>\n",
       "    <tr>\n",
       "      <th>beer_brewerId</th>\n",
       "      <th>beer_beerId</th>\n",
       "      <th></th>\n",
       "      <th></th>\n",
       "    </tr>\n",
       "  </thead>\n",
       "  <tbody>\n",
       "    <tr>\n",
       "      <td rowspan=\"5\" valign=\"top\">1</td>\n",
       "      <td>429</td>\n",
       "      <td>1220.0</td>\n",
       "      <td>4.4</td>\n",
       "    </tr>\n",
       "    <tr>\n",
       "      <td>5916</td>\n",
       "      <td>46.0</td>\n",
       "      <td>5.0</td>\n",
       "    </tr>\n",
       "    <tr>\n",
       "      <td>14348</td>\n",
       "      <td>6.0</td>\n",
       "      <td>5.0</td>\n",
       "    </tr>\n",
       "    <tr>\n",
       "      <td>19099</td>\n",
       "      <td>4.0</td>\n",
       "      <td>4.2</td>\n",
       "    </tr>\n",
       "    <tr>\n",
       "      <td>19123</td>\n",
       "      <td>7.0</td>\n",
       "      <td>4.1</td>\n",
       "    </tr>\n",
       "  </tbody>\n",
       "</table>\n",
       "</div>"
      ],
      "text/plain": [
       "                          beer_ABV     \n",
       "                              size mean\n",
       "beer_brewerId beer_beerId              \n",
       "1             429           1220.0  4.4\n",
       "              5916            46.0  5.0\n",
       "              14348            6.0  5.0\n",
       "              19099            4.0  4.2\n",
       "              19123            7.0  4.1"
      ]
     },
     "execution_count": 71,
     "metadata": {},
     "output_type": "execute_result"
    }
   ],
   "source": [
    "aggrAbvDf.head(5)\n",
    "# Here, the size is corresponds to the number of review logged per unique beer_beerId and\n",
    "# the mean value tells the mean of the beer_ABV value recorder in the review"
   ]
  },
  {
   "cell_type": "code",
   "execution_count": 72,
   "metadata": {},
   "outputs": [],
   "source": [
    "# Now aggregating on a brewery level i.e 'beer_ABV' mean for each brewery\n",
    "\n",
    "beer_ABVmeanDf = aggrAbvDf.groupby(level='beer_brewerId').mean()\n",
    "beer_ABVmeanDf.columns = ('mean_size', 'mean_beer_ABV')\n"
   ]
  },
  {
   "cell_type": "code",
   "execution_count": 73,
   "metadata": {},
   "outputs": [
    {
     "data": {
      "text/html": [
       "<div>\n",
       "<style scoped>\n",
       "    .dataframe tbody tr th:only-of-type {\n",
       "        vertical-align: middle;\n",
       "    }\n",
       "\n",
       "    .dataframe tbody tr th {\n",
       "        vertical-align: top;\n",
       "    }\n",
       "\n",
       "    .dataframe thead th {\n",
       "        text-align: right;\n",
       "    }\n",
       "</style>\n",
       "<table border=\"1\" class=\"dataframe\">\n",
       "  <thead>\n",
       "    <tr style=\"text-align: right;\">\n",
       "      <th></th>\n",
       "      <th>mean_size</th>\n",
       "      <th>mean_beer_ABV</th>\n",
       "    </tr>\n",
       "    <tr>\n",
       "      <th>beer_brewerId</th>\n",
       "      <th></th>\n",
       "      <th></th>\n",
       "    </tr>\n",
       "  </thead>\n",
       "  <tbody>\n",
       "    <tr>\n",
       "      <td>1</td>\n",
       "      <td>101.538462</td>\n",
       "      <td>4.876923</td>\n",
       "    </tr>\n",
       "    <tr>\n",
       "      <td>3</td>\n",
       "      <td>123.425000</td>\n",
       "      <td>6.237500</td>\n",
       "    </tr>\n",
       "    <tr>\n",
       "      <td>5</td>\n",
       "      <td>69.000000</td>\n",
       "      <td>4.837500</td>\n",
       "    </tr>\n",
       "    <tr>\n",
       "      <td>10</td>\n",
       "      <td>14.000000</td>\n",
       "      <td>4.625000</td>\n",
       "    </tr>\n",
       "    <tr>\n",
       "      <td>14</td>\n",
       "      <td>8.983871</td>\n",
       "      <td>6.588710</td>\n",
       "    </tr>\n",
       "  </tbody>\n",
       "</table>\n",
       "</div>"
      ],
      "text/plain": [
       "                mean_size  mean_beer_ABV\n",
       "beer_brewerId                           \n",
       "1              101.538462       4.876923\n",
       "3              123.425000       6.237500\n",
       "5               69.000000       4.837500\n",
       "10              14.000000       4.625000\n",
       "14               8.983871       6.588710"
      ]
     },
     "execution_count": 73,
     "metadata": {},
     "output_type": "execute_result"
    }
   ],
   "source": [
    "\n",
    "beer_ABVmeanDf.head(5)\n"
   ]
  },
  {
   "cell_type": "code",
   "execution_count": 74,
   "metadata": {},
   "outputs": [],
   "source": [
    "# fropping the column 'mean_size' and sorting the dataframe in desceding order\n",
    "\n",
    "sorted_beer_ABVmeanDf = beer_ABVmeanDf.drop('mean_size', 1).sort_values('mean_beer_ABV', ascending=False).reset_index()"
   ]
  },
  {
   "cell_type": "code",
   "execution_count": 75,
   "metadata": {},
   "outputs": [
    {
     "data": {
      "text/plain": [
       "<matplotlib.axes._subplots.AxesSubplot at 0x1676604a8c8>"
      ]
     },
     "execution_count": 75,
     "metadata": {},
     "output_type": "execute_result"
    },
    {
     "data": {
      "image/png": "[encoded data removed]",
      "text/plain": [
       "<Figure size 576x432 with 1 Axes>"
      ]
     },
     "metadata": {},
     "output_type": "display_data"
    }
   ],
   "source": [
    "import seaborn as sns\n",
    "import matplotlib.pyplot as plt\n",
    "\n",
    "sns.boxplot(data=sorted_beer_ABVmeanDf['mean_beer_ABV'])"
   ]
  },
  {
   "cell_type": "markdown",
   "metadata": {},
   "source": [
    "    Observations :\n",
    "        1. From the above visualization, we can see that the most of the breweries brew around 6% beer_ABV.\n",
    "        2. The box plot plot shows the anomalous value of around 25% for beer_brewerId \"6513\" which is far greater than mean beer_ABV\n",
    "        3. We can’t rule out the slight possibility that the actual strongest beer is one with a null value in column \"beer_ABV\"."
   ]
  },
  {
   "cell_type": "code",
   "execution_count": 76,
   "metadata": {},
   "outputs": [
    {
     "data": {
      "text/html": [
       "<div>\n",
       "<style scoped>\n",
       "    .dataframe tbody tr th:only-of-type {\n",
       "        vertical-align: middle;\n",
       "    }\n",
       "\n",
       "    .dataframe tbody tr th {\n",
       "        vertical-align: top;\n",
       "    }\n",
       "\n",
       "    .dataframe thead th {\n",
       "        text-align: right;\n",
       "    }\n",
       "</style>\n",
       "<table border=\"1\" class=\"dataframe\">\n",
       "  <thead>\n",
       "    <tr style=\"text-align: right;\">\n",
       "      <th></th>\n",
       "      <th>beer_brewerId</th>\n",
       "      <th>mean_beer_ABV</th>\n",
       "    </tr>\n",
       "  </thead>\n",
       "  <tbody>\n",
       "    <tr>\n",
       "      <td>0</td>\n",
       "      <td>6513</td>\n",
       "      <td>24.690000</td>\n",
       "    </tr>\n",
       "    <tr>\n",
       "      <td>1</td>\n",
       "      <td>736</td>\n",
       "      <td>13.500000</td>\n",
       "    </tr>\n",
       "    <tr>\n",
       "      <td>2</td>\n",
       "      <td>24215</td>\n",
       "      <td>12.466667</td>\n",
       "    </tr>\n",
       "  </tbody>\n",
       "</table>\n",
       "</div>"
      ],
      "text/plain": [
       "   beer_brewerId  mean_beer_ABV\n",
       "0           6513      24.690000\n",
       "1            736      13.500000\n",
       "2          24215      12.466667"
      ]
     },
     "execution_count": 76,
     "metadata": {},
     "output_type": "execute_result"
    }
   ],
   "source": [
    "sorted_beer_ABVmeanDf.head(3)\n",
    "\n",
    "# Below are the top 3 Breweries producing strongest beers considering anomalous value of 24.69% for brewery \"6513\""
   ]
  },
  {
   "cell_type": "markdown",
   "metadata": {},
   "source": [
    "---"
   ]
  },
  {
   "cell_type": "markdown",
   "metadata": {},
   "source": [
    "### Question 2 : Which year did beers enjoy the highest ratings ? "
   ]
  },
  {
   "cell_type": "code",
   "execution_count": 77,
   "metadata": {},
   "outputs": [
    {
     "data": {
      "text/html": [
       "<div>\n",
       "<style scoped>\n",
       "    .dataframe tbody tr th:only-of-type {\n",
       "        vertical-align: middle;\n",
       "    }\n",
       "\n",
       "    .dataframe tbody tr th {\n",
       "        vertical-align: top;\n",
       "    }\n",
       "\n",
       "    .dataframe thead th {\n",
       "        text-align: right;\n",
       "    }\n",
       "</style>\n",
       "<table border=\"1\" class=\"dataframe\">\n",
       "  <thead>\n",
       "    <tr style=\"text-align: right;\">\n",
       "      <th></th>\n",
       "      <th>index</th>\n",
       "      <th>beer_ABV</th>\n",
       "      <th>beer_beerId</th>\n",
       "      <th>beer_brewerId</th>\n",
       "      <th>beer_name</th>\n",
       "      <th>beer_style</th>\n",
       "      <th>review_appearance</th>\n",
       "      <th>review_palette</th>\n",
       "      <th>review_overall</th>\n",
       "      <th>review_taste</th>\n",
       "      <th>review_profileName</th>\n",
       "      <th>review_aroma</th>\n",
       "      <th>review_text</th>\n",
       "      <th>review_time</th>\n",
       "    </tr>\n",
       "  </thead>\n",
       "  <tbody>\n",
       "    <tr>\n",
       "      <td>492945</td>\n",
       "      <td>492945</td>\n",
       "      <td>6.2</td>\n",
       "      <td>1339</td>\n",
       "      <td>132</td>\n",
       "      <td>Hazelnut Brown Nectar</td>\n",
       "      <td>American Brown Ale</td>\n",
       "      <td>4.5</td>\n",
       "      <td>3.0</td>\n",
       "      <td>5.0</td>\n",
       "      <td>4.5</td>\n",
       "      <td>prosper</td>\n",
       "      <td>5.0</td>\n",
       "      <td>Served at ~15C. Gorgeous pour. Nut brown, slig...</td>\n",
       "      <td>1221003321</td>\n",
       "    </tr>\n",
       "    <tr>\n",
       "      <td>172728</td>\n",
       "      <td>172728</td>\n",
       "      <td>4.7</td>\n",
       "      <td>689</td>\n",
       "      <td>221</td>\n",
       "      <td>Red Stripe Jamaican Lager</td>\n",
       "      <td>American Adjunct Lager</td>\n",
       "      <td>5.0</td>\n",
       "      <td>3.0</td>\n",
       "      <td>5.0</td>\n",
       "      <td>4.5</td>\n",
       "      <td>AussieInPhilly</td>\n",
       "      <td>4.0</td>\n",
       "      <td>This beer is tops. The crisp, yet smooth taste...</td>\n",
       "      <td>1129192511</td>\n",
       "    </tr>\n",
       "  </tbody>\n",
       "</table>\n",
       "</div>"
      ],
      "text/plain": [
       "         index  beer_ABV  beer_beerId  beer_brewerId  \\\n",
       "492945  492945       6.2         1339            132   \n",
       "172728  172728       4.7          689            221   \n",
       "\n",
       "                        beer_name              beer_style  review_appearance  \\\n",
       "492945      Hazelnut Brown Nectar      American Brown Ale                4.5   \n",
       "172728  Red Stripe Jamaican Lager  American Adjunct Lager                5.0   \n",
       "\n",
       "        review_palette  review_overall  review_taste review_profileName  \\\n",
       "492945             3.0             5.0           4.5            prosper   \n",
       "172728             3.0             5.0           4.5     AussieInPhilly   \n",
       "\n",
       "        review_aroma                                        review_text  \\\n",
       "492945           5.0  Served at ~15C. Gorgeous pour. Nut brown, slig...   \n",
       "172728           4.0  This beer is tops. The crisp, yet smooth taste...   \n",
       "\n",
       "        review_time  \n",
       "492945   1221003321  \n",
       "172728   1129192511  "
      ]
     },
     "execution_count": 77,
     "metadata": {},
     "output_type": "execute_result"
    }
   ],
   "source": [
    "beerData.head(2)"
   ]
  },
  {
   "cell_type": "code",
   "execution_count": 78,
   "metadata": {},
   "outputs": [
    {
     "data": {
      "text/plain": [
       "Index(['index', 'beer_ABV', 'beer_beerId', 'beer_brewerId', 'beer_name',\n",
       "       'beer_style', 'review_appearance', 'review_palette', 'review_overall',\n",
       "       'review_taste', 'review_profileName', 'review_aroma', 'review_text',\n",
       "       'review_time'],\n",
       "      dtype='object')"
      ]
     },
     "execution_count": 78,
     "metadata": {},
     "output_type": "execute_result"
    }
   ],
   "source": [
    "beerData.columns"
   ]
  },
  {
   "cell_type": "markdown",
   "metadata": {},
   "source": [
    "#### Extracting the relevant columns into new dataframe to use it futher."
   ]
  },
  {
   "cell_type": "code",
   "execution_count": 79,
   "metadata": {},
   "outputs": [],
   "source": [
    "review_Data = beerData[['beer_beerId','beer_name','review_overall','review_time']]"
   ]
  },
  {
   "cell_type": "code",
   "execution_count": 80,
   "metadata": {},
   "outputs": [
    {
     "name": "stderr",
     "output_type": "stream",
     "text": [
      "C:\\Anaconda3\\lib\\site-packages\\ipykernel_launcher.py:1: SettingWithCopyWarning: \n",
      "A value is trying to be set on a copy of a slice from a DataFrame.\n",
      "Try using .loc[row_indexer,col_indexer] = value instead\n",
      "\n",
      "See the caveats in the documentation: http://pandas.pydata.org/pandas-docs/stable/user_guide/indexing.html#returning-a-view-versus-a-copy\n",
      "  \"\"\"Entry point for launching an IPython kernel.\n"
     ]
    }
   ],
   "source": [
    "review_Data['review_year'] = review_Data.apply(lambda row: datetime.utcfromtimestamp(row.review_time).strftime(\"%Y\"), axis=1)\n"
   ]
  },
  {
   "cell_type": "code",
   "execution_count": 81,
   "metadata": {},
   "outputs": [],
   "source": [
    "review_Data = review_Data.reset_index(drop=True)"
   ]
  },
  {
   "cell_type": "code",
   "execution_count": 82,
   "metadata": {},
   "outputs": [
    {
     "data": {
      "text/html": [
       "<div>\n",
       "<style scoped>\n",
       "    .dataframe tbody tr th:only-of-type {\n",
       "        vertical-align: middle;\n",
       "    }\n",
       "\n",
       "    .dataframe tbody tr th {\n",
       "        vertical-align: top;\n",
       "    }\n",
       "\n",
       "    .dataframe thead th {\n",
       "        text-align: right;\n",
       "    }\n",
       "</style>\n",
       "<table border=\"1\" class=\"dataframe\">\n",
       "  <thead>\n",
       "    <tr style=\"text-align: right;\">\n",
       "      <th></th>\n",
       "      <th>beer_beerId</th>\n",
       "      <th>beer_name</th>\n",
       "      <th>review_overall</th>\n",
       "      <th>review_time</th>\n",
       "      <th>review_year</th>\n",
       "    </tr>\n",
       "  </thead>\n",
       "  <tbody>\n",
       "    <tr>\n",
       "      <td>0</td>\n",
       "      <td>1339</td>\n",
       "      <td>Hazelnut Brown Nectar</td>\n",
       "      <td>5.0</td>\n",
       "      <td>1221003321</td>\n",
       "      <td>2008</td>\n",
       "    </tr>\n",
       "    <tr>\n",
       "      <td>1</td>\n",
       "      <td>689</td>\n",
       "      <td>Red Stripe Jamaican Lager</td>\n",
       "      <td>5.0</td>\n",
       "      <td>1129192511</td>\n",
       "      <td>2005</td>\n",
       "    </tr>\n",
       "    <tr>\n",
       "      <td>2</td>\n",
       "      <td>15881</td>\n",
       "      <td>Tröegs Nugget Nectar</td>\n",
       "      <td>5.0</td>\n",
       "      <td>1235006981</td>\n",
       "      <td>2009</td>\n",
       "    </tr>\n",
       "    <tr>\n",
       "      <td>3</td>\n",
       "      <td>571</td>\n",
       "      <td>Samuel Smith's Oatmeal Stout</td>\n",
       "      <td>5.0</td>\n",
       "      <td>1203476701</td>\n",
       "      <td>2008</td>\n",
       "    </tr>\n",
       "    <tr>\n",
       "      <td>4</td>\n",
       "      <td>689</td>\n",
       "      <td>Red Stripe Jamaican Lager</td>\n",
       "      <td>5.0</td>\n",
       "      <td>1135296352</td>\n",
       "      <td>2005</td>\n",
       "    </tr>\n",
       "  </tbody>\n",
       "</table>\n",
       "</div>"
      ],
      "text/plain": [
       "   beer_beerId                     beer_name  review_overall  review_time  \\\n",
       "0         1339         Hazelnut Brown Nectar             5.0   1221003321   \n",
       "1          689     Red Stripe Jamaican Lager             5.0   1129192511   \n",
       "2        15881          Tröegs Nugget Nectar             5.0   1235006981   \n",
       "3          571  Samuel Smith's Oatmeal Stout             5.0   1203476701   \n",
       "4          689     Red Stripe Jamaican Lager             5.0   1135296352   \n",
       "\n",
       "  review_year  \n",
       "0        2008  \n",
       "1        2005  \n",
       "2        2009  \n",
       "3        2008  \n",
       "4        2005  "
      ]
     },
     "execution_count": 82,
     "metadata": {},
     "output_type": "execute_result"
    }
   ],
   "source": [
    "review_Data.head(5)"
   ]
  },
  {
   "cell_type": "code",
   "execution_count": 83,
   "metadata": {},
   "outputs": [],
   "source": [
    "#\n",
    "aggrReview_Data = review_Data.groupby(['review_year'], as_index=False)['review_overall'].agg('mean')"
   ]
  },
  {
   "cell_type": "code",
   "execution_count": 84,
   "metadata": {},
   "outputs": [
    {
     "data": {
      "text/html": [
       "<div>\n",
       "<style scoped>\n",
       "    .dataframe tbody tr th:only-of-type {\n",
       "        vertical-align: middle;\n",
       "    }\n",
       "\n",
       "    .dataframe tbody tr th {\n",
       "        vertical-align: top;\n",
       "    }\n",
       "\n",
       "    .dataframe thead th {\n",
       "        text-align: right;\n",
       "    }\n",
       "</style>\n",
       "<table border=\"1\" class=\"dataframe\">\n",
       "  <thead>\n",
       "    <tr style=\"text-align: right;\">\n",
       "      <th></th>\n",
       "      <th>review_year</th>\n",
       "      <th>review_overall</th>\n",
       "    </tr>\n",
       "  </thead>\n",
       "  <tbody>\n",
       "    <tr>\n",
       "      <td>0</td>\n",
       "      <td>1998</td>\n",
       "      <td>4.045455</td>\n",
       "    </tr>\n",
       "    <tr>\n",
       "      <td>1</td>\n",
       "      <td>1999</td>\n",
       "      <td>4.000000</td>\n",
       "    </tr>\n",
       "    <tr>\n",
       "      <td>2</td>\n",
       "      <td>2000</td>\n",
       "      <td>4.241379</td>\n",
       "    </tr>\n",
       "    <tr>\n",
       "      <td>3</td>\n",
       "      <td>2001</td>\n",
       "      <td>3.963687</td>\n",
       "    </tr>\n",
       "    <tr>\n",
       "      <td>4</td>\n",
       "      <td>2002</td>\n",
       "      <td>3.822060</td>\n",
       "    </tr>\n",
       "  </tbody>\n",
       "</table>\n",
       "</div>"
      ],
      "text/plain": [
       "  review_year  review_overall\n",
       "0        1998        4.045455\n",
       "1        1999        4.000000\n",
       "2        2000        4.241379\n",
       "3        2001        3.963687\n",
       "4        2002        3.822060"
      ]
     },
     "execution_count": 84,
     "metadata": {},
     "output_type": "execute_result"
    }
   ],
   "source": [
    "aggrReview_Data.head(5)"
   ]
  },
  {
   "cell_type": "code",
   "execution_count": 85,
   "metadata": {},
   "outputs": [],
   "source": [
    "# sorting the dataframe in desceding order\n",
    "\n",
    "aggrReview_Data = aggrReview_Data.sort_values(by=['review_overall'], ascending=False)"
   ]
  },
  {
   "cell_type": "code",
   "execution_count": 86,
   "metadata": {},
   "outputs": [
    {
     "data": {
      "text/html": [
       "<div>\n",
       "<style scoped>\n",
       "    .dataframe tbody tr th:only-of-type {\n",
       "        vertical-align: middle;\n",
       "    }\n",
       "\n",
       "    .dataframe tbody tr th {\n",
       "        vertical-align: top;\n",
       "    }\n",
       "\n",
       "    .dataframe thead th {\n",
       "        text-align: right;\n",
       "    }\n",
       "</style>\n",
       "<table border=\"1\" class=\"dataframe\">\n",
       "  <thead>\n",
       "    <tr style=\"text-align: right;\">\n",
       "      <th></th>\n",
       "      <th>review_year</th>\n",
       "      <th>review_overall</th>\n",
       "    </tr>\n",
       "  </thead>\n",
       "  <tbody>\n",
       "    <tr>\n",
       "      <td>2</td>\n",
       "      <td>2000</td>\n",
       "      <td>4.241379</td>\n",
       "    </tr>\n",
       "    <tr>\n",
       "      <td>0</td>\n",
       "      <td>1998</td>\n",
       "      <td>4.045455</td>\n",
       "    </tr>\n",
       "    <tr>\n",
       "      <td>1</td>\n",
       "      <td>1999</td>\n",
       "      <td>4.000000</td>\n",
       "    </tr>\n",
       "    <tr>\n",
       "      <td>3</td>\n",
       "      <td>2001</td>\n",
       "      <td>3.963687</td>\n",
       "    </tr>\n",
       "    <tr>\n",
       "      <td>12</td>\n",
       "      <td>2010</td>\n",
       "      <td>3.869730</td>\n",
       "    </tr>\n",
       "  </tbody>\n",
       "</table>\n",
       "</div>"
      ],
      "text/plain": [
       "   review_year  review_overall\n",
       "2         2000        4.241379\n",
       "0         1998        4.045455\n",
       "1         1999        4.000000\n",
       "3         2001        3.963687\n",
       "12        2010        3.869730"
      ]
     },
     "execution_count": 86,
     "metadata": {},
     "output_type": "execute_result"
    }
   ],
   "source": [
    "\n",
    "aggrReview_Data.head(5)\n"
   ]
  },
  {
   "cell_type": "code",
   "execution_count": 87,
   "metadata": {},
   "outputs": [
    {
     "data": {
      "image/png": "[encoded data removed]",
      "text/plain": [
       "<Figure size 576x432 with 1 Axes>"
      ]
     },
     "metadata": {},
     "output_type": "display_data"
    }
   ],
   "source": [
    "import matplotlib.pyplot as plt\n",
    "fig = plt.figure()\n",
    "ax = fig.add_axes([0,0,1,1])\n",
    "ax.bar(aggrReview_Data.review_year,aggrReview_Data.review_overall)\n",
    "plt.show()"
   ]
  },
  {
   "cell_type": "markdown",
   "metadata": {},
   "source": [
    "    Observation :\n",
    "        1. Observing above bar plot we ca say that o year '2000' beer enjoys higest overall ratings of \"4.241379\""
   ]
  },
  {
   "cell_type": "markdown",
   "metadata": {},
   "source": [
    "---"
   ]
  },
  {
   "cell_type": "markdown",
   "metadata": {},
   "source": [
    "### Question 3 : Based on the user’s ratings which factors are important among taste, aroma, appearance, and palette?"
   ]
  },
  {
   "cell_type": "code",
   "execution_count": 88,
   "metadata": {},
   "outputs": [
    {
     "data": {
      "text/plain": [
       "Index(['index', 'beer_ABV', 'beer_beerId', 'beer_brewerId', 'beer_name',\n",
       "       'beer_style', 'review_appearance', 'review_palette', 'review_overall',\n",
       "       'review_taste', 'review_profileName', 'review_aroma', 'review_text',\n",
       "       'review_time'],\n",
       "      dtype='object')"
      ]
     },
     "execution_count": 88,
     "metadata": {},
     "output_type": "execute_result"
    }
   ],
   "source": [
    "beerData.columns"
   ]
  },
  {
   "cell_type": "code",
   "execution_count": 89,
   "metadata": {},
   "outputs": [],
   "source": [
    "beerRatingsDf = beerData[['beer_beerId', 'review_appearance', 'review_palette','review_taste', 'review_aroma', 'review_overall']]"
   ]
  },
  {
   "cell_type": "code",
   "execution_count": 90,
   "metadata": {},
   "outputs": [
    {
     "data": {
      "text/html": [
       "<div>\n",
       "<style scoped>\n",
       "    .dataframe tbody tr th:only-of-type {\n",
       "        vertical-align: middle;\n",
       "    }\n",
       "\n",
       "    .dataframe tbody tr th {\n",
       "        vertical-align: top;\n",
       "    }\n",
       "\n",
       "    .dataframe thead th {\n",
       "        text-align: right;\n",
       "    }\n",
       "</style>\n",
       "<table border=\"1\" class=\"dataframe\">\n",
       "  <thead>\n",
       "    <tr style=\"text-align: right;\">\n",
       "      <th></th>\n",
       "      <th>beer_beerId</th>\n",
       "      <th>review_appearance</th>\n",
       "      <th>review_palette</th>\n",
       "      <th>review_taste</th>\n",
       "      <th>review_aroma</th>\n",
       "      <th>review_overall</th>\n",
       "    </tr>\n",
       "  </thead>\n",
       "  <tbody>\n",
       "    <tr>\n",
       "      <td>492945</td>\n",
       "      <td>1339</td>\n",
       "      <td>4.5</td>\n",
       "      <td>3.0</td>\n",
       "      <td>4.5</td>\n",
       "      <td>5.0</td>\n",
       "      <td>5.0</td>\n",
       "    </tr>\n",
       "    <tr>\n",
       "      <td>172728</td>\n",
       "      <td>689</td>\n",
       "      <td>5.0</td>\n",
       "      <td>3.0</td>\n",
       "      <td>4.5</td>\n",
       "      <td>4.0</td>\n",
       "      <td>5.0</td>\n",
       "    </tr>\n",
       "    <tr>\n",
       "      <td>409699</td>\n",
       "      <td>15881</td>\n",
       "      <td>4.0</td>\n",
       "      <td>4.0</td>\n",
       "      <td>4.5</td>\n",
       "      <td>4.5</td>\n",
       "      <td>5.0</td>\n",
       "    </tr>\n",
       "    <tr>\n",
       "      <td>517331</td>\n",
       "      <td>571</td>\n",
       "      <td>4.5</td>\n",
       "      <td>4.5</td>\n",
       "      <td>4.5</td>\n",
       "      <td>4.5</td>\n",
       "      <td>5.0</td>\n",
       "    </tr>\n",
       "    <tr>\n",
       "      <td>172704</td>\n",
       "      <td>689</td>\n",
       "      <td>3.0</td>\n",
       "      <td>3.5</td>\n",
       "      <td>4.0</td>\n",
       "      <td>5.0</td>\n",
       "      <td>5.0</td>\n",
       "    </tr>\n",
       "  </tbody>\n",
       "</table>\n",
       "</div>"
      ],
      "text/plain": [
       "        beer_beerId  review_appearance  review_palette  review_taste  \\\n",
       "492945         1339                4.5             3.0           4.5   \n",
       "172728          689                5.0             3.0           4.5   \n",
       "409699        15881                4.0             4.0           4.5   \n",
       "517331          571                4.5             4.5           4.5   \n",
       "172704          689                3.0             3.5           4.0   \n",
       "\n",
       "        review_aroma  review_overall  \n",
       "492945           5.0             5.0  \n",
       "172728           4.0             5.0  \n",
       "409699           4.5             5.0  \n",
       "517331           4.5             5.0  \n",
       "172704           5.0             5.0  "
      ]
     },
     "execution_count": 90,
     "metadata": {},
     "output_type": "execute_result"
    }
   ],
   "source": [
    "beerRatingsDf.head()"
   ]
  },
  {
   "cell_type": "code",
   "execution_count": 91,
   "metadata": {},
   "outputs": [],
   "source": [
    "beerRatingsAggrDf = beerRatingsDf.groupby('beer_beerId').agg(\n",
    "        {'beer_beerId':'count',\n",
    "         'review_aroma':'mean',\n",
    "         'review_taste':'mean',\n",
    "         'review_appearance':'mean',\n",
    "         'review_palette':'mean',\n",
    "        'review_overall':'mean'})\n",
    "\n",
    "beerRatingsAggrDf.columns = ('beer_beerId_count','review_aroma','review_taste','review_appearance','review_palette','review_overall')"
   ]
  },
  {
   "cell_type": "code",
   "execution_count": 92,
   "metadata": {},
   "outputs": [
    {
     "data": {
      "text/html": [
       "<div>\n",
       "<style scoped>\n",
       "    .dataframe tbody tr th:only-of-type {\n",
       "        vertical-align: middle;\n",
       "    }\n",
       "\n",
       "    .dataframe tbody tr th {\n",
       "        vertical-align: top;\n",
       "    }\n",
       "\n",
       "    .dataframe thead th {\n",
       "        text-align: right;\n",
       "    }\n",
       "</style>\n",
       "<table border=\"1\" class=\"dataframe\">\n",
       "  <thead>\n",
       "    <tr style=\"text-align: right;\">\n",
       "      <th></th>\n",
       "      <th>beer_beerId_count</th>\n",
       "      <th>review_aroma</th>\n",
       "      <th>review_taste</th>\n",
       "      <th>review_appearance</th>\n",
       "      <th>review_palette</th>\n",
       "      <th>review_overall</th>\n",
       "    </tr>\n",
       "    <tr>\n",
       "      <th>beer_beerId</th>\n",
       "      <th></th>\n",
       "      <th></th>\n",
       "      <th></th>\n",
       "      <th></th>\n",
       "      <th></th>\n",
       "      <th></th>\n",
       "    </tr>\n",
       "  </thead>\n",
       "  <tbody>\n",
       "    <tr>\n",
       "      <td>5</td>\n",
       "      <td>420</td>\n",
       "      <td>3.342857</td>\n",
       "      <td>3.323810</td>\n",
       "      <td>3.488095</td>\n",
       "      <td>3.208333</td>\n",
       "      <td>3.554762</td>\n",
       "    </tr>\n",
       "    <tr>\n",
       "      <td>6</td>\n",
       "      <td>871</td>\n",
       "      <td>3.645809</td>\n",
       "      <td>3.514351</td>\n",
       "      <td>3.839839</td>\n",
       "      <td>3.517222</td>\n",
       "      <td>3.709529</td>\n",
       "    </tr>\n",
       "    <tr>\n",
       "      <td>7</td>\n",
       "      <td>655</td>\n",
       "      <td>3.103817</td>\n",
       "      <td>3.110687</td>\n",
       "      <td>3.251145</td>\n",
       "      <td>3.178626</td>\n",
       "      <td>3.271756</td>\n",
       "    </tr>\n",
       "    <tr>\n",
       "      <td>8</td>\n",
       "      <td>68</td>\n",
       "      <td>3.235294</td>\n",
       "      <td>3.301471</td>\n",
       "      <td>3.294118</td>\n",
       "      <td>3.080882</td>\n",
       "      <td>3.647059</td>\n",
       "    </tr>\n",
       "    <tr>\n",
       "      <td>9</td>\n",
       "      <td>116</td>\n",
       "      <td>3.043103</td>\n",
       "      <td>3.103448</td>\n",
       "      <td>3.051724</td>\n",
       "      <td>2.853448</td>\n",
       "      <td>3.400862</td>\n",
       "    </tr>\n",
       "  </tbody>\n",
       "</table>\n",
       "</div>"
      ],
      "text/plain": [
       "             beer_beerId_count  review_aroma  review_taste  review_appearance  \\\n",
       "beer_beerId                                                                     \n",
       "5                          420      3.342857      3.323810           3.488095   \n",
       "6                          871      3.645809      3.514351           3.839839   \n",
       "7                          655      3.103817      3.110687           3.251145   \n",
       "8                           68      3.235294      3.301471           3.294118   \n",
       "9                          116      3.043103      3.103448           3.051724   \n",
       "\n",
       "             review_palette  review_overall  \n",
       "beer_beerId                                  \n",
       "5                  3.208333        3.554762  \n",
       "6                  3.517222        3.709529  \n",
       "7                  3.178626        3.271756  \n",
       "8                  3.080882        3.647059  \n",
       "9                  2.853448        3.400862  "
      ]
     },
     "execution_count": 92,
     "metadata": {},
     "output_type": "execute_result"
    }
   ],
   "source": [
    "beerRatingsAggrDf.head()"
   ]
  },
  {
   "cell_type": "code",
   "execution_count": 93,
   "metadata": {},
   "outputs": [],
   "source": [
    "# Lets observe the correlation between columns.\n",
    "# Calculate the Pearson's correlation coeff and plot a heatmap."
   ]
  },
  {
   "cell_type": "code",
   "execution_count": 94,
   "metadata": {},
   "outputs": [],
   "source": [
    "corVals = beerRatingsAggrDf.corr()\n",
    "corVals = corVals.iloc[1:6,1:6]"
   ]
  },
  {
   "cell_type": "code",
   "execution_count": 95,
   "metadata": {},
   "outputs": [
    {
     "data": {
      "text/html": [
       "<div>\n",
       "<style scoped>\n",
       "    .dataframe tbody tr th:only-of-type {\n",
       "        vertical-align: middle;\n",
       "    }\n",
       "\n",
       "    .dataframe tbody tr th {\n",
       "        vertical-align: top;\n",
       "    }\n",
       "\n",
       "    .dataframe thead th {\n",
       "        text-align: right;\n",
       "    }\n",
       "</style>\n",
       "<table border=\"1\" class=\"dataframe\">\n",
       "  <thead>\n",
       "    <tr style=\"text-align: right;\">\n",
       "      <th></th>\n",
       "      <th>review_aroma</th>\n",
       "      <th>review_taste</th>\n",
       "      <th>review_appearance</th>\n",
       "      <th>review_palette</th>\n",
       "      <th>review_overall</th>\n",
       "    </tr>\n",
       "  </thead>\n",
       "  <tbody>\n",
       "    <tr>\n",
       "      <td>review_aroma</td>\n",
       "      <td>1.000000</td>\n",
       "      <td>0.835014</td>\n",
       "      <td>0.660198</td>\n",
       "      <td>0.825980</td>\n",
       "      <td>0.883830</td>\n",
       "    </tr>\n",
       "    <tr>\n",
       "      <td>review_taste</td>\n",
       "      <td>0.835014</td>\n",
       "      <td>1.000000</td>\n",
       "      <td>0.682245</td>\n",
       "      <td>0.756271</td>\n",
       "      <td>0.823196</td>\n",
       "    </tr>\n",
       "    <tr>\n",
       "      <td>review_appearance</td>\n",
       "      <td>0.660198</td>\n",
       "      <td>0.682245</td>\n",
       "      <td>1.000000</td>\n",
       "      <td>0.669227</td>\n",
       "      <td>0.637603</td>\n",
       "    </tr>\n",
       "    <tr>\n",
       "      <td>review_palette</td>\n",
       "      <td>0.825980</td>\n",
       "      <td>0.756271</td>\n",
       "      <td>0.669227</td>\n",
       "      <td>1.000000</td>\n",
       "      <td>0.766905</td>\n",
       "    </tr>\n",
       "    <tr>\n",
       "      <td>review_overall</td>\n",
       "      <td>0.883830</td>\n",
       "      <td>0.823196</td>\n",
       "      <td>0.637603</td>\n",
       "      <td>0.766905</td>\n",
       "      <td>1.000000</td>\n",
       "    </tr>\n",
       "  </tbody>\n",
       "</table>\n",
       "</div>"
      ],
      "text/plain": [
       "                   review_aroma  review_taste  review_appearance  \\\n",
       "review_aroma           1.000000      0.835014           0.660198   \n",
       "review_taste           0.835014      1.000000           0.682245   \n",
       "review_appearance      0.660198      0.682245           1.000000   \n",
       "review_palette         0.825980      0.756271           0.669227   \n",
       "review_overall         0.883830      0.823196           0.637603   \n",
       "\n",
       "                   review_palette  review_overall  \n",
       "review_aroma             0.825980        0.883830  \n",
       "review_taste             0.756271        0.823196  \n",
       "review_appearance        0.669227        0.637603  \n",
       "review_palette           1.000000        0.766905  \n",
       "review_overall           0.766905        1.000000  "
      ]
     },
     "execution_count": 95,
     "metadata": {},
     "output_type": "execute_result"
    }
   ],
   "source": [
    "corVals"
   ]
  },
  {
   "cell_type": "code",
   "execution_count": 96,
   "metadata": {},
   "outputs": [],
   "source": [
    "# masking the upper diagonal matrix\n",
    "upperMask = np.zeros_like(corVals, dtype=np.bool)\n",
    "\n",
    "upperMask[np.triu_indices_from(upperMask, k=1)] = True\n"
   ]
  },
  {
   "cell_type": "code",
   "execution_count": 97,
   "metadata": {},
   "outputs": [
    {
     "data": {
      "image/png": "[encoded data removed]",
      "text/plain": [
       "<Figure size 576x432 with 2 Axes>"
      ]
     },
     "metadata": {},
     "output_type": "display_data"
    }
   ],
   "source": [
    "# Plotting hestmap\n",
    "sns.heatmap(corVals, mask=upperMask, annot=True, linewidths=.3)\n",
    "\n",
    "plt.title(\"Pearson's Correlations Coeff\")\n",
    "plt.show()"
   ]
  },
  {
   "cell_type": "markdown",
   "metadata": {},
   "source": [
    "    Observations:\n",
    "        1. Observing above heat map we can say that the important factors in deciding overall rating of the beers are aroma(0.88) followeb by taste (0.82) , pallete (0.77) and appearance (0.64)\n",
    "    "
   ]
  },
  {
   "cell_type": "markdown",
   "metadata": {},
   "source": [
    "---"
   ]
  },
  {
   "cell_type": "markdown",
   "metadata": {},
   "source": [
    "### Question 4 : If you were to recommend 3 beers to your friends based on this data which ones will you recommend?"
   ]
  },
  {
   "cell_type": "markdown",
   "metadata": {},
   "source": [
    "    Observing the dataset, the 'review_overall' field looks the good metric to rank the beers.\n",
    "    as other features are more towards judging the features of the beers."
   ]
  },
  {
   "cell_type": "code",
   "execution_count": 98,
   "metadata": {},
   "outputs": [
    {
     "data": {
      "text/plain": [
       "Index(['index', 'beer_ABV', 'beer_beerId', 'beer_brewerId', 'beer_name',\n",
       "       'beer_style', 'review_appearance', 'review_palette', 'review_overall',\n",
       "       'review_taste', 'review_profileName', 'review_aroma', 'review_text',\n",
       "       'review_time'],\n",
       "      dtype='object')"
      ]
     },
     "execution_count": 98,
     "metadata": {},
     "output_type": "execute_result"
    }
   ],
   "source": [
    "beerData.columns"
   ]
  },
  {
   "cell_type": "code",
   "execution_count": 99,
   "metadata": {},
   "outputs": [],
   "source": [
    "#CHosing the relevant features to analyze\n",
    "\n",
    "recommendData = beerData[['beer_brewerId','beer_beerId','beer_name','beer_ABV', 'beer_style', 'review_overall']]"
   ]
  },
  {
   "cell_type": "code",
   "execution_count": 100,
   "metadata": {},
   "outputs": [
    {
     "name": "stderr",
     "output_type": "stream",
     "text": [
      "C:\\Anaconda3\\lib\\site-packages\\ipykernel_launcher.py:3: SettingWithCopyWarning: \n",
      "A value is trying to be set on a copy of a slice from a DataFrame.\n",
      "Try using .loc[row_indexer,col_indexer] = value instead\n",
      "\n",
      "See the caveats in the documentation: http://pandas.pydata.org/pandas-docs/stable/user_guide/indexing.html#returning-a-view-versus-a-copy\n",
      "  This is separate from the ipykernel package so we can avoid doing imports until\n"
     ]
    }
   ],
   "source": [
    "# Counting the number of the reviews with fresoect to each beer\n",
    "\n",
    "recommendData['review_count'] = recommendData.groupby(['beer_beerId'])['review_overall'].transform('count')"
   ]
  },
  {
   "cell_type": "code",
   "execution_count": 101,
   "metadata": {},
   "outputs": [
    {
     "data": {
      "text/plain": [
       "624.2821477991729"
      ]
     },
     "execution_count": 101,
     "metadata": {},
     "output_type": "execute_result"
    }
   ],
   "source": [
    "recommendData.review_count.mean()\n",
    "\n",
    "# Average review_count is 624"
   ]
  },
  {
   "cell_type": "code",
   "execution_count": 102,
   "metadata": {},
   "outputs": [
    {
     "data": {
      "image/png": "[encoded data removed]",
      "text/plain": [
       "<Figure size 576x432 with 1 Axes>"
      ]
     },
     "metadata": {},
     "output_type": "display_data"
    }
   ],
   "source": [
    "# Plotting Histogram to visualise the distribution review_count \n",
    "\n",
    "recommendData.review_count.hist(bins=50)\n",
    "plt.ylabel('Count')\n",
    "plt.show()"
   ]
  },
  {
   "cell_type": "code",
   "execution_count": 103,
   "metadata": {},
   "outputs": [
    {
     "data": {
      "text/plain": [
       "(503697, 7)"
      ]
     },
     "execution_count": 103,
     "metadata": {},
     "output_type": "execute_result"
    }
   ],
   "source": [
    "recommendData.shape"
   ]
  },
  {
   "cell_type": "code",
   "execution_count": 104,
   "metadata": {},
   "outputs": [
    {
     "name": "stderr",
     "output_type": "stream",
     "text": [
      "C:\\Anaconda3\\lib\\site-packages\\ipykernel_launcher.py:3: SettingWithCopyWarning: \n",
      "A value is trying to be set on a copy of a slice from a DataFrame.\n",
      "Try using .loc[row_indexer,col_indexer] = value instead\n",
      "\n",
      "See the caveats in the documentation: http://pandas.pydata.org/pandas-docs/stable/user_guide/indexing.html#returning-a-view-versus-a-copy\n",
      "  This is separate from the ipykernel package so we can avoid doing imports until\n"
     ]
    }
   ],
   "source": [
    "#calculating mean review_overall value for each beer Id \n",
    "\n",
    "recommendData['review_overall_mean'] = recommendData.groupby(['beer_beerId'])['review_overall'].transform('mean')\n"
   ]
  },
  {
   "cell_type": "code",
   "execution_count": 105,
   "metadata": {},
   "outputs": [],
   "source": [
    "#COnsidering 1/4 th of avg review count to filter\n",
    "\n",
    "filteredRecommendData = recommendData[recommendData.review_count >= 150]\n"
   ]
  },
  {
   "cell_type": "code",
   "execution_count": 106,
   "metadata": {},
   "outputs": [
    {
     "data": {
      "text/html": [
       "<div>\n",
       "<style scoped>\n",
       "    .dataframe tbody tr th:only-of-type {\n",
       "        vertical-align: middle;\n",
       "    }\n",
       "\n",
       "    .dataframe tbody tr th {\n",
       "        vertical-align: top;\n",
       "    }\n",
       "\n",
       "    .dataframe thead th {\n",
       "        text-align: right;\n",
       "    }\n",
       "</style>\n",
       "<table border=\"1\" class=\"dataframe\">\n",
       "  <thead>\n",
       "    <tr style=\"text-align: right;\">\n",
       "      <th></th>\n",
       "      <th>beer_brewerId</th>\n",
       "      <th>beer_beerId</th>\n",
       "      <th>beer_name</th>\n",
       "      <th>beer_ABV</th>\n",
       "      <th>beer_style</th>\n",
       "      <th>review_overall</th>\n",
       "      <th>review_count</th>\n",
       "      <th>review_overall_mean</th>\n",
       "    </tr>\n",
       "  </thead>\n",
       "  <tbody>\n",
       "    <tr>\n",
       "      <td>334964</td>\n",
       "      <td>14064</td>\n",
       "      <td>56082</td>\n",
       "      <td>Citra DIPA</td>\n",
       "      <td>8.0</td>\n",
       "      <td>American Double / Imperial IPA</td>\n",
       "      <td>5.0</td>\n",
       "      <td>246</td>\n",
       "      <td>4.630081</td>\n",
       "    </tr>\n",
       "    <tr>\n",
       "      <td>484119</td>\n",
       "      <td>388</td>\n",
       "      <td>36316</td>\n",
       "      <td>Cantillon Blåbær Lambik</td>\n",
       "      <td>5.0</td>\n",
       "      <td>Lambic - Fruit</td>\n",
       "      <td>5.0</td>\n",
       "      <td>155</td>\n",
       "      <td>4.625806</td>\n",
       "    </tr>\n",
       "    <tr>\n",
       "      <td>378552</td>\n",
       "      <td>27039</td>\n",
       "      <td>16814</td>\n",
       "      <td>Heady Topper</td>\n",
       "      <td>8.0</td>\n",
       "      <td>American Double / Imperial IPA</td>\n",
       "      <td>5.0</td>\n",
       "      <td>443</td>\n",
       "      <td>4.623025</td>\n",
       "    </tr>\n",
       "  </tbody>\n",
       "</table>\n",
       "</div>"
      ],
      "text/plain": [
       "        beer_brewerId  beer_beerId                beer_name  beer_ABV  \\\n",
       "334964          14064        56082               Citra DIPA       8.0   \n",
       "484119            388        36316  Cantillon Blåbær Lambik       5.0   \n",
       "378552          27039        16814             Heady Topper       8.0   \n",
       "\n",
       "                            beer_style  review_overall  review_count  \\\n",
       "334964  American Double / Imperial IPA             5.0           246   \n",
       "484119                  Lambic - Fruit             5.0           155   \n",
       "378552  American Double / Imperial IPA             5.0           443   \n",
       "\n",
       "        review_overall_mean  \n",
       "334964             4.630081  \n",
       "484119             4.625806  \n",
       "378552             4.623025  "
      ]
     },
     "execution_count": 106,
     "metadata": {},
     "output_type": "execute_result"
    }
   ],
   "source": [
    "\n",
    "aggrFilteredRecommendData = filteredRecommendData.groupby('beer_beerId').head(1).sort_values('review_overall_mean', ascending=False )\n",
    "\n",
    "# The top 3 suggestions are as below\n",
    "aggrFilteredRecommendData.head(3)\n"
   ]
  },
  {
   "cell_type": "markdown",
   "metadata": {},
   "source": [
    "---"
   ]
  },
  {
   "cell_type": "markdown",
   "metadata": {},
   "source": [
    "### Question 5 : Which Beer style seems to be the favorite based on Reviews written by users? How does written review compare to overall review score for the beer style?"
   ]
  },
  {
   "cell_type": "code",
   "execution_count": 107,
   "metadata": {},
   "outputs": [
    {
     "data": {
      "text/plain": [
       "Index(['index', 'beer_ABV', 'beer_beerId', 'beer_brewerId', 'beer_name',\n",
       "       'beer_style', 'review_appearance', 'review_palette', 'review_overall',\n",
       "       'review_taste', 'review_profileName', 'review_aroma', 'review_text',\n",
       "       'review_time'],\n",
       "      dtype='object')"
      ]
     },
     "execution_count": 107,
     "metadata": {},
     "output_type": "execute_result"
    }
   ],
   "source": [
    "beerData.columns"
   ]
  },
  {
   "cell_type": "code",
   "execution_count": 108,
   "metadata": {},
   "outputs": [],
   "source": [
    "# Considering only relevant columns\n",
    "\n",
    "reviewTextData = beerData[['beer_beerId','beer_name','beer_ABV','beer_style','review_overall','review_text']]"
   ]
  },
  {
   "cell_type": "code",
   "execution_count": 111,
   "metadata": {},
   "outputs": [],
   "source": [
    "# lets consider the higher reviews only to calculate the polarity score of review_text and compare it with overall review\n",
    "\n",
    "reviewTextData = reviewTextData.loc[reviewTextData['review_overall'] >= 4]"
   ]
  },
  {
   "cell_type": "code",
   "execution_count": 112,
   "metadata": {},
   "outputs": [],
   "source": [
    "#Resetting Index\n",
    "\n",
    "reviewTextData.reset_index(drop=True,inplace=True)"
   ]
  },
  {
   "cell_type": "code",
   "execution_count": 113,
   "metadata": {},
   "outputs": [
    {
     "data": {
      "text/html": [
       "<div>\n",
       "<style scoped>\n",
       "    .dataframe tbody tr th:only-of-type {\n",
       "        vertical-align: middle;\n",
       "    }\n",
       "\n",
       "    .dataframe tbody tr th {\n",
       "        vertical-align: top;\n",
       "    }\n",
       "\n",
       "    .dataframe thead th {\n",
       "        text-align: right;\n",
       "    }\n",
       "</style>\n",
       "<table border=\"1\" class=\"dataframe\">\n",
       "  <thead>\n",
       "    <tr style=\"text-align: right;\">\n",
       "      <th></th>\n",
       "      <th>beer_beerId</th>\n",
       "      <th>beer_name</th>\n",
       "      <th>beer_ABV</th>\n",
       "      <th>beer_style</th>\n",
       "      <th>review_overall</th>\n",
       "      <th>review_text</th>\n",
       "    </tr>\n",
       "  </thead>\n",
       "  <tbody>\n",
       "    <tr>\n",
       "      <td>0</td>\n",
       "      <td>1339</td>\n",
       "      <td>Hazelnut Brown Nectar</td>\n",
       "      <td>6.2</td>\n",
       "      <td>American Brown Ale</td>\n",
       "      <td>5.0</td>\n",
       "      <td>Served at ~15C. Gorgeous pour. Nut brown, slig...</td>\n",
       "    </tr>\n",
       "    <tr>\n",
       "      <td>1</td>\n",
       "      <td>689</td>\n",
       "      <td>Red Stripe Jamaican Lager</td>\n",
       "      <td>4.7</td>\n",
       "      <td>American Adjunct Lager</td>\n",
       "      <td>5.0</td>\n",
       "      <td>This beer is tops. The crisp, yet smooth taste...</td>\n",
       "    </tr>\n",
       "  </tbody>\n",
       "</table>\n",
       "</div>"
      ],
      "text/plain": [
       "   beer_beerId                  beer_name  beer_ABV              beer_style  \\\n",
       "0         1339      Hazelnut Brown Nectar       6.2      American Brown Ale   \n",
       "1          689  Red Stripe Jamaican Lager       4.7  American Adjunct Lager   \n",
       "\n",
       "   review_overall                                        review_text  \n",
       "0             5.0  Served at ~15C. Gorgeous pour. Nut brown, slig...  \n",
       "1             5.0  This beer is tops. The crisp, yet smooth taste...  "
      ]
     },
     "execution_count": 113,
     "metadata": {},
     "output_type": "execute_result"
    }
   ],
   "source": [
    "reviewTextData.head(2)"
   ]
  },
  {
   "cell_type": "code",
   "execution_count": 114,
   "metadata": {},
   "outputs": [],
   "source": [
    "### Printing some random reviews to observe the review text"
   ]
  },
  {
   "cell_type": "code",
   "execution_count": 115,
   "metadata": {},
   "outputs": [
    {
     "data": {
      "text/plain": [
       "\"Served at ~15C. Gorgeous pour. Nut brown, slightly reddish with a voluminous tan head that leaves lots of lace. Very clear. Smells odd - perhaps that's the hazelnut, but to me it just smells cardboardy and stale. There's biscuit, bready yeast, and roasty notes as well with a nice malty aroma holding things together. There's a light fruity hops note as well, very understated. Mouthfeel is very very good. Low-ish carbonation, no acrid zing. There's a definite nuttiness to it, nicely accented by sweet dark malt and baked bread flavours and some medium roast bitterness. Light floral hops in the background. Very very mellow, almost no bitterness. This stuff is dangerously smooth and easy to drink.\""
      ]
     },
     "execution_count": 115,
     "metadata": {},
     "output_type": "execute_result"
    }
   ],
   "source": [
    "reviewTextData.review_text[0]"
   ]
  },
  {
   "cell_type": "code",
   "execution_count": 116,
   "metadata": {},
   "outputs": [
    {
     "data": {
      "text/plain": [
       "\"This is truly an amazing brew! Pours opaque brown with a creamy light tan head that never goes away. Gorgeous!! Smells awesome! Pure dark malts and milk chocolate. The smell really makes you anticipate the taste. Taste doesn't dissapoint-Starts out sweet and choclatey, with a little raisin, then finishes up with a very pleasant hops and alcohol nip in the end. Mouthfeel is smooth, but not really thick...nice tho. Drinkability is crazy...You'd never know you were drinking a 7% brew untill you feel it. It's amazingly smooth. Yeah, I belive I'll have another!\""
      ]
     },
     "execution_count": 116,
     "metadata": {},
     "output_type": "execute_result"
    }
   ],
   "source": [
    "reviewTextData.review_text[492]"
   ]
  },
  {
   "cell_type": "markdown",
   "metadata": {},
   "source": [
    "#### Text Preprocessing"
   ]
  },
  {
   "cell_type": "code",
   "execution_count": 117,
   "metadata": {},
   "outputs": [],
   "source": [
    "import re\n",
    "\n",
    "#Initial text processing to deconstruct the short forms\n",
    "\n",
    "def decontracted(phrase):\n",
    "    # specific\n",
    "    phrase = re.sub(r\"won't\", \"will not\", phrase)\n",
    "    phrase = re.sub(r\"can\\'t\", \"can not\", phrase)\n",
    "\n",
    "    # general\n",
    "    phrase = re.sub(r\"n\\'t\", \" not\", phrase)\n",
    "    phrase = re.sub(r\"\\'re\", \" are\", phrase)\n",
    "    phrase = re.sub(r\"\\'s\", \" is\", phrase)\n",
    "    phrase = re.sub(r\"\\'d\", \" would\", phrase)\n",
    "    phrase = re.sub(r\"\\'ll\", \" will\", phrase)\n",
    "    phrase = re.sub(r\"\\'t\", \" not\", phrase)\n",
    "    phrase = re.sub(r\"\\'ve\", \" have\", phrase)\n",
    "    phrase = re.sub(r\"\\'m\", \" am\", phrase)\n",
    "    \n",
    "    return phrase"
   ]
  },
  {
   "cell_type": "code",
   "execution_count": 118,
   "metadata": {},
   "outputs": [
    {
     "name": "stderr",
     "output_type": "stream",
     "text": [
      "100%|██████████| 324711/324711 [01:17<00:00, 4202.97it/s]\n"
     ]
    }
   ],
   "source": [
    "#Extracting text reciews and applying text pre-processing on it.\n",
    "\n",
    "preprocessed_reviews = []\n",
    "\n",
    "for sentance in tqdm(reviewTextData['review_text'].values): # tqdm is for printing the status bar\n",
    "    sentance = decontracted(sentance) #desconstructiong the short forms\n",
    "    sentance = re.sub(\"\\S*\\d\\S*\", \"\", sentance).strip() #remove words with numbers \n",
    "    \n",
    "    preprocessed_reviews.append(sentance) #form the sentence again"
   ]
  },
  {
   "cell_type": "code",
   "execution_count": 119,
   "metadata": {},
   "outputs": [
    {
     "data": {
      "text/plain": [
       "'Served at  Gorgeous pour. Nut brown, slightly reddish with a voluminous tan head that leaves lots of lace. Very clear. Smells odd - perhaps that is the hazelnut, but to me it just smells cardboardy and stale. There is biscuit, bready yeast, and roasty notes as well with a nice malty aroma holding things together. There is a light fruity hops note as well, very understated. Mouthfeel is very very good. Low-ish carbonation, no acrid zing. There is a definite nuttiness to it, nicely accented by sweet dark malt and baked bread flavours and some medium roast bitterness. Light floral hops in the background. Very very mellow, almost no bitterness. This stuff is dangerously smooth and easy to drink.'"
      ]
     },
     "execution_count": 119,
     "metadata": {},
     "output_type": "execute_result"
    }
   ],
   "source": [
    "preprocessed_reviews[0]"
   ]
  },
  {
   "cell_type": "code",
   "execution_count": 120,
   "metadata": {},
   "outputs": [],
   "source": [
    "#Appending preprocessed reviews to the filtered dataframe\n",
    "\n",
    "reviewTextData['preprocessed_review_text'] = preprocessed_reviews\n"
   ]
  },
  {
   "cell_type": "code",
   "execution_count": 121,
   "metadata": {},
   "outputs": [
    {
     "data": {
      "text/plain": [
       "\"Served at ~15C. Gorgeous pour. Nut brown, slightly reddish with a voluminous tan head that leaves lots of lace. Very clear. Smells odd - perhaps that's the hazelnut, but to me it just smells cardboardy and stale. There's biscuit, bready yeast, and roasty notes as well with a nice malty aroma holding things together. There's a light fruity hops note as well, very understated. Mouthfeel is very very good. Low-ish carbonation, no acrid zing. There's a definite nuttiness to it, nicely accented by sweet dark malt and baked bread flavours and some medium roast bitterness. Light floral hops in the background. Very very mellow, almost no bitterness. This stuff is dangerously smooth and easy to drink.\""
      ]
     },
     "execution_count": 121,
     "metadata": {},
     "output_type": "execute_result"
    }
   ],
   "source": [
    "reviewTextData.review_text[0]"
   ]
  },
  {
   "cell_type": "code",
   "execution_count": 123,
   "metadata": {},
   "outputs": [],
   "source": [
    "# Instantiating Sentiment Analyzer\n",
    "\n",
    "sianalyzer = SentimentIntensityAnalyzer()"
   ]
  },
  {
   "cell_type": "code",
   "execution_count": 125,
   "metadata": {},
   "outputs": [
    {
     "name": "stderr",
     "output_type": "stream",
     "text": [
      "100%|██████████| 324711/324711 [15:17<00:00, 353.78it/s]\n"
     ]
    }
   ],
   "source": [
    "#loop over the 'preprocessed_review_text' column and calculate the polarity score for each review. \n",
    "\n",
    "reviewTextData['polarity_score2'] = reviewTextData['preprocessed_review_text'].progress_apply(lambda x: sianalyzer.polarity_scores(x)['compound'])"
   ]
  },
  {
   "cell_type": "code",
   "execution_count": 156,
   "metadata": {},
   "outputs": [],
   "source": [
    "# Groupping by the 'beer_beerId' and calculate mean polarity score.\n",
    "\n",
    "reviewTextDataGroupped = reviewTextData.groupby('beer_style')['polarity_score2'].mean()\n"
   ]
  },
  {
   "cell_type": "code",
   "execution_count": 157,
   "metadata": {},
   "outputs": [
    {
     "data": {
      "text/plain": [
       "beer_style\n",
       "Braggot                      0.924622\n",
       "Happoshu                     0.919091\n",
       "Dortmunder / Export Lager    0.907556\n",
       "Wheatwine                    0.896163\n",
       "Quadrupel (Quad)             0.891744\n",
       "Name: polarity_score2, dtype: float64"
      ]
     },
     "execution_count": 157,
     "metadata": {},
     "output_type": "execute_result"
    }
   ],
   "source": [
    "# Lets Sort the groupped data by mean polarity score\n",
    "\n",
    "reviewTextDataGroupped.sort_values(ascending=False)[0:5]\n"
   ]
  },
  {
   "cell_type": "code",
   "execution_count": 158,
   "metadata": {},
   "outputs": [
    {
     "data": {
      "text/html": [
       "<div>\n",
       "<style scoped>\n",
       "    .dataframe tbody tr th:only-of-type {\n",
       "        vertical-align: middle;\n",
       "    }\n",
       "\n",
       "    .dataframe tbody tr th {\n",
       "        vertical-align: top;\n",
       "    }\n",
       "\n",
       "    .dataframe thead th {\n",
       "        text-align: right;\n",
       "    }\n",
       "</style>\n",
       "<table border=\"1\" class=\"dataframe\">\n",
       "  <thead>\n",
       "    <tr style=\"text-align: right;\">\n",
       "      <th></th>\n",
       "      <th>beer_beerId</th>\n",
       "      <th>beer_name</th>\n",
       "      <th>beer_ABV</th>\n",
       "      <th>beer_style</th>\n",
       "      <th>review_overall</th>\n",
       "      <th>review_text</th>\n",
       "      <th>preprocessed_review_text</th>\n",
       "      <th>polarity_score2</th>\n",
       "    </tr>\n",
       "  </thead>\n",
       "  <tbody>\n",
       "    <tr>\n",
       "      <td>18454</td>\n",
       "      <td>5972</td>\n",
       "      <td>Luna De Miel: Raspberry Meade</td>\n",
       "      <td>7.82</td>\n",
       "      <td>Braggot</td>\n",
       "      <td>5.0</td>\n",
       "      <td>750 ml crowned bottle. I bought this with no i...</td>\n",
       "      <td>ml crowned bottle. I bought this with no idea ...</td>\n",
       "      <td>0.8906</td>\n",
       "    </tr>\n",
       "    <tr>\n",
       "      <td>19650</td>\n",
       "      <td>69407</td>\n",
       "      <td>Sixteen</td>\n",
       "      <td>10.50</td>\n",
       "      <td>Braggot</td>\n",
       "      <td>5.0</td>\n",
       "      <td>Weyerbacher Sixteen on tap at The Pony Bar, HK...</td>\n",
       "      <td>Weyerbacher Sixteen on tap at The Pony Bar, HK...</td>\n",
       "      <td>0.9974</td>\n",
       "    </tr>\n",
       "    <tr>\n",
       "      <td>19654</td>\n",
       "      <td>69407</td>\n",
       "      <td>Sixteen</td>\n",
       "      <td>10.50</td>\n",
       "      <td>Braggot</td>\n",
       "      <td>5.0</td>\n",
       "      <td>Now this is an awesome beer/mead combo!! A-Dee...</td>\n",
       "      <td>Now this is an awesome beer/mead combo!! A-Dee...</td>\n",
       "      <td>0.9821</td>\n",
       "    </tr>\n",
       "    <tr>\n",
       "      <td>34396</td>\n",
       "      <td>55238</td>\n",
       "      <td>Apico</td>\n",
       "      <td>16.30</td>\n",
       "      <td>Braggot</td>\n",
       "      <td>4.5</td>\n",
       "      <td>Kept seeing this in various beer stores but di...</td>\n",
       "      <td>Kept seeing this in various beer stores but di...</td>\n",
       "      <td>0.9770</td>\n",
       "    </tr>\n",
       "    <tr>\n",
       "      <td>77398</td>\n",
       "      <td>69407</td>\n",
       "      <td>Sixteen</td>\n",
       "      <td>10.50</td>\n",
       "      <td>Braggot</td>\n",
       "      <td>4.5</td>\n",
       "      <td>A - Dark brown with ruby accent. Smallish head...</td>\n",
       "      <td>A - Dark brown with ruby accent. Smallish head...</td>\n",
       "      <td>0.9815</td>\n",
       "    </tr>\n",
       "    <tr>\n",
       "      <td>...</td>\n",
       "      <td>...</td>\n",
       "      <td>...</td>\n",
       "      <td>...</td>\n",
       "      <td>...</td>\n",
       "      <td>...</td>\n",
       "      <td>...</td>\n",
       "      <td>...</td>\n",
       "      <td>...</td>\n",
       "    </tr>\n",
       "    <tr>\n",
       "      <td>250357</td>\n",
       "      <td>5972</td>\n",
       "      <td>Luna De Miel: Raspberry Meade</td>\n",
       "      <td>7.82</td>\n",
       "      <td>Braggot</td>\n",
       "      <td>4.0</td>\n",
       "      <td>Luna de Miel - Harmonious Honeymoon Ale - is q...</td>\n",
       "      <td>Luna de Miel - Harmonious Honeymoon Ale - is q...</td>\n",
       "      <td>0.9892</td>\n",
       "    </tr>\n",
       "    <tr>\n",
       "      <td>274700</td>\n",
       "      <td>23369</td>\n",
       "      <td>Hawaiian Honey</td>\n",
       "      <td>13.00</td>\n",
       "      <td>Braggot</td>\n",
       "      <td>4.0</td>\n",
       "      <td>Sampled on-tap at the brewpub. 90 lbs of clove...</td>\n",
       "      <td>Sampled on-tap at the brewpub.  lbs of clover ...</td>\n",
       "      <td>0.6712</td>\n",
       "    </tr>\n",
       "    <tr>\n",
       "      <td>321926</td>\n",
       "      <td>50450</td>\n",
       "      <td>Bob's Memorial Braggot</td>\n",
       "      <td>7.00</td>\n",
       "      <td>Braggot</td>\n",
       "      <td>4.0</td>\n",
       "      <td>Served in Deschuttes Brewery's stemmed Jubel 2...</td>\n",
       "      <td>Served in Deschuttes Brewery is stemmed Jubel ...</td>\n",
       "      <td>0.9433</td>\n",
       "    </tr>\n",
       "    <tr>\n",
       "      <td>321934</td>\n",
       "      <td>50450</td>\n",
       "      <td>Bob's Memorial Braggot</td>\n",
       "      <td>7.00</td>\n",
       "      <td>Braggot</td>\n",
       "      <td>4.0</td>\n",
       "      <td>This beer appears reddish brown with a small l...</td>\n",
       "      <td>This beer appears reddish brown with a small l...</td>\n",
       "      <td>0.8945</td>\n",
       "    </tr>\n",
       "    <tr>\n",
       "      <td>321940</td>\n",
       "      <td>50450</td>\n",
       "      <td>Bob's Memorial Braggot</td>\n",
       "      <td>7.00</td>\n",
       "      <td>Braggot</td>\n",
       "      <td>4.0</td>\n",
       "      <td>Bomber poured into my Delirium snifter Bob's M...</td>\n",
       "      <td>Bomber poured into my Delirium snifter Bob is ...</td>\n",
       "      <td>0.9946</td>\n",
       "    </tr>\n",
       "  </tbody>\n",
       "</table>\n",
       "<p>105 rows × 8 columns</p>\n",
       "</div>"
      ],
      "text/plain": [
       "        beer_beerId                      beer_name  beer_ABV beer_style  \\\n",
       "18454          5972  Luna De Miel: Raspberry Meade      7.82    Braggot   \n",
       "19650         69407                        Sixteen     10.50    Braggot   \n",
       "19654         69407                        Sixteen     10.50    Braggot   \n",
       "34396         55238                          Apico     16.30    Braggot   \n",
       "77398         69407                        Sixteen     10.50    Braggot   \n",
       "...             ...                            ...       ...        ...   \n",
       "250357         5972  Luna De Miel: Raspberry Meade      7.82    Braggot   \n",
       "274700        23369                 Hawaiian Honey     13.00    Braggot   \n",
       "321926        50450         Bob's Memorial Braggot      7.00    Braggot   \n",
       "321934        50450         Bob's Memorial Braggot      7.00    Braggot   \n",
       "321940        50450         Bob's Memorial Braggot      7.00    Braggot   \n",
       "\n",
       "        review_overall                                        review_text  \\\n",
       "18454              5.0  750 ml crowned bottle. I bought this with no i...   \n",
       "19650              5.0  Weyerbacher Sixteen on tap at The Pony Bar, HK...   \n",
       "19654              5.0  Now this is an awesome beer/mead combo!! A-Dee...   \n",
       "34396              4.5  Kept seeing this in various beer stores but di...   \n",
       "77398              4.5  A - Dark brown with ruby accent. Smallish head...   \n",
       "...                ...                                                ...   \n",
       "250357             4.0  Luna de Miel - Harmonious Honeymoon Ale - is q...   \n",
       "274700             4.0  Sampled on-tap at the brewpub. 90 lbs of clove...   \n",
       "321926             4.0  Served in Deschuttes Brewery's stemmed Jubel 2...   \n",
       "321934             4.0  This beer appears reddish brown with a small l...   \n",
       "321940             4.0  Bomber poured into my Delirium snifter Bob's M...   \n",
       "\n",
       "                                 preprocessed_review_text  polarity_score2  \n",
       "18454   ml crowned bottle. I bought this with no idea ...           0.8906  \n",
       "19650   Weyerbacher Sixteen on tap at The Pony Bar, HK...           0.9974  \n",
       "19654   Now this is an awesome beer/mead combo!! A-Dee...           0.9821  \n",
       "34396   Kept seeing this in various beer stores but di...           0.9770  \n",
       "77398   A - Dark brown with ruby accent. Smallish head...           0.9815  \n",
       "...                                                   ...              ...  \n",
       "250357  Luna de Miel - Harmonious Honeymoon Ale - is q...           0.9892  \n",
       "274700  Sampled on-tap at the brewpub.  lbs of clover ...           0.6712  \n",
       "321926  Served in Deschuttes Brewery is stemmed Jubel ...           0.9433  \n",
       "321934  This beer appears reddish brown with a small l...           0.8945  \n",
       "321940  Bomber poured into my Delirium snifter Bob is ...           0.9946  \n",
       "\n",
       "[105 rows x 8 columns]"
      ]
     },
     "execution_count": 158,
     "metadata": {},
     "output_type": "execute_result"
    }
   ],
   "source": [
    "# Obsering the top 'polarity_score2' and 'beer_beerId' associated with it.\n",
    "reviewTextData.loc[reviewTextData['beer_style'] == 'Braggot']\n"
   ]
  },
  {
   "cell_type": "markdown",
   "metadata": {},
   "source": [
    "    Obsdrvation:\n",
    "        1. By Observing the mean compund ploarity score , we can say that the beer style \"Braggot\" is quite most famous.\n",
    "        2. By Observing the mean compund ploarity score calculated we can get an idea how the user written review text is collaborating in calculating the overall review score."
   ]
  },
  {
   "cell_type": "markdown",
   "metadata": {},
   "source": [
    "---"
   ]
  },
  {
   "cell_type": "markdown",
   "metadata": {},
   "source": [
    "### END"
   ]
  }
 ],
 "metadata": {
  "kernelspec": {
   "display_name": "Python 3",
   "language": "python",
   "name": "python3"
  },
  "language_info": {
   "codemirror_mode": {
    "name": "ipython",
    "version": 3
   },
   "file_extension": ".py",
   "mimetype": "text/x-python",
   "name": "python",
   "nbconvert_exporter": "python",
   "pygments_lexer": "ipython3",
   "version": "3.7.4"
  }
 },
 "nbformat": 4,
 "nbformat_minor": 4
}
